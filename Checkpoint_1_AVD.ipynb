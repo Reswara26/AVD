{
  "nbformat": 4,
  "nbformat_minor": 0,
  "metadata": {
    "colab": {
      "provenance": [],
      "toc_visible": true,
      "authorship_tag": "ABX9TyMT+46QWdlg39JbY5zli+gz",
      "include_colab_link": true
    },
    "kernelspec": {
      "name": "python3",
      "display_name": "Python 3"
    },
    "language_info": {
      "name": "python"
    }
  },
  "cells": [
    {
      "cell_type": "markdown",
      "metadata": {
        "id": "view-in-github",
        "colab_type": "text"
      },
      "source": [
        "<a href=\"https://colab.research.google.com/github/Reswara26/AVD/blob/main/Checkpoint_1_AVD.ipynb\" target=\"_parent\"><img src=\"https://colab.research.google.com/assets/colab-badge.svg\" alt=\"Open In Colab\"/></a>"
      ]
    },
    {
      "cell_type": "markdown",
      "source": [
        "#BUSINESS UNDERSTANDING"
      ],
      "metadata": {
        "id": "4enMX_9qtkBU"
      }
    },
    {
      "cell_type": "markdown",
      "source": [
        "##Business Objective (Tujuan Bisnis)"
      ],
      "metadata": {
        "id": "1sNQtpZMttuV"
      }
    },
    {
      "cell_type": "markdown",
      "source": [
        "Dalam jual beli mobil, harga jual kembali sangat penting bagi pembeli dan penjual. Dengan memahami bagaimana harga mobil Toyota turun seiring waktu, pembeli bisa lebih bijak dalam memilih mobil, dan penjual bisa menetapkan harga yang tepat. Analisis ini bertujuan untuk melihat bagaimana harga mobil Toyota berkurang seiring bertambahnya usia mobil."
      ],
      "metadata": {
        "id": "PCi4BC8SuO_O"
      }
    },
    {
      "cell_type": "markdown",
      "source": [
        "##Assess Situation (Menilai Situasi)"
      ],
      "metadata": {
        "id": "8SFfYkc7uQeu"
      }
    },
    {
      "cell_type": "markdown",
      "source": [
        "Seiring waktu, harga mobil pasti turun karena faktor usia, teknologi yang semakin canggih, dan permintaan pasar. Pembeli mobil bekas ingin mendapatkan harga terbaik, sementara penjual ingin menjual mobilnya dengan harga yang masih menguntungkan. Jika ada informasi yang jelas tentang bagaimana harga mobil turun, pembeli dan penjual bisa lebih mudah menentukan keputusan dan strategi harga."
      ],
      "metadata": {
        "id": "EWnsvE7WuWKh"
      }
    },
    {
      "cell_type": "markdown",
      "source": [
        "##Data Mining Goals (Tujuan Analitik)"
      ],
      "metadata": {
        "id": "84rw5p5yuWpZ"
      }
    },
    {
      "cell_type": "markdown",
      "source": [
        "Analisis ini akan melihat hubungan antara tahun pembuatan dan harga mobil Toyota untuk mengetahui bagaimana harga turun seiring usia mobil. Selain itu, analisis akan mengecek apakah faktor lain seperti jarak tempuh atau jenis transmisi juga dapat mempengaruhi harga."
      ],
      "metadata": {
        "id": "uRLZUrNpuW_y"
      }
    },
    {
      "cell_type": "markdown",
      "source": [
        "##Project Plan (Perencanaan Proyek)"
      ],
      "metadata": {
        "id": "iPdGX4aduXPi"
      }
    },
    {
      "cell_type": "markdown",
      "source": [
        "Pertama, data mobil Toyota dikumpulkan, termasuk tahun produksi, harga, jarak tempuh, transmisi, bahan bakar, dan spesifikasi lainnya. Setelah itu, data akan dianalisis untuk melihat pola harga dan bagaimana harga berubah dari tahun ke tahun. Grafik dan visualisasi akan dibuat untuk mempermudah pemahaman. Jika ada faktor lain yang berpengaruh terhadap harga, seperti jarak tempuh atau jenis transmisi, itu juga akan dianalisis. Hasil akhirnya akan dirangkum dalam laporan untuk memberikan gambaran jelas tentang tren harga mobil Toyota."
      ],
      "metadata": {
        "id": "MvvIMWrYuckB"
      }
    }
  ]
}